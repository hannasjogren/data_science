{
 "cells": [
  {
   "cell_type": "code",
   "execution_count": 2,
   "metadata": {},
   "outputs": [],
   "source": [
    "import pandas as pd\n",
    "import sqlite3\n",
    "import logging\n",
    "from datetime import datetime\n",
    "import os\n",
    "\n",
    "# Konfigurera loggning\n",
    "logging.basicConfig(\n",
    "    filename=\"data_processing.log\",\n",
    "    level=logging.INFO,\n",
    "    format=\"%(asctime)s - %(levelname)s - %(message)s\"\n",
    ")\n",
    "\n",
    "def read_data(file_path):\n",
    "    \"\"\"Läs in data från en CSV-fil och returnera en Pandas DataFrame.\"\"\"\n",
    "    try:\n",
    "        if not os.path.exists(file_path):\n",
    "            logging.error(\"File does not exist: %s\", file_path)\n",
    "            raise FileNotFoundError(f\"File does not exist: {file_path}\")\n",
    "        \n",
    "        df = pd.read_csv(file_path)\n",
    "        logging.info(\"Data successfully read from %s\", file_path)\n",
    "        return df\n",
    "    except Exception as e:\n",
    "        logging.error(\"Error reading data: %s\", e)\n",
    "        raise\n",
    "\n",
    "def process_data(data):\n",
    "    \"\"\"Bearbeta datan genom att omvandla datum och lägga till en kolumn.\"\"\"\n",
    "    try:\n",
    "        # Bearbeta data (kan anpassas efter behov)\n",
    "        if 'Date' in data.columns:\n",
    "            data['Date'] = pd.to_datetime(data['Date'], errors='coerce')\n",
    "        \n",
    "        # Lägg till bearbetningsdatum\n",
    "        data['processed_date'] = datetime.now().strftime('%Y-%m-%d')\n",
    "        \n",
    "        logging.info(\"Data successfully processed\")\n",
    "        return data\n",
    "    except Exception as e:\n",
    "        logging.error(\"Error processing data: %s\", e)\n",
    "        raise\n",
    "\n",
    "def update_database(data, db_path, table_name):\n",
    "    \"\"\"Uppdatera en SQLite-tabell med ny data.\"\"\"\n",
    "    try:\n",
    "        conn = sqlite3.connect(db_path)\n",
    "        data.to_sql(table_name, conn, if_exists='replace', index=False)\n",
    "        conn.close()\n",
    "        logging.info(\"Database successfully updated\")\n",
    "    except Exception as e:\n",
    "        logging.error(\"Error updating database: %s\", e)\n",
    "        raise\n",
    "\n",
    "if __name__ == \"__main__\":\n",
    "    try:\n",
    "        # Filväg till den uppladdade filen\n",
    "        input_file = \"AmericanOffencesPenalty.csv\"  \n",
    "        df = read_data(input_file)\n",
    "\n",
    "        # Bearbeta data\n",
    "        processed_df = process_data(df)\n",
    "\n",
    "        # Uppdatera SQLite-databas\n",
    "        database_path = \"USoffencepenalty.db\"  # Databasfil\n",
    "        table_name = \"USoffencepenalty\"  # Tabellnamn\n",
    "        update_database(processed_df, database_path, table_name)\n",
    "\n",
    "    except Exception as e:\n",
    "        logging.critical(\"Script terminated due to an error: %s\", e)"
   ]
  },
  {
   "cell_type": "code",
   "execution_count": 3,
   "metadata": {},
   "outputs": [
    {
     "name": "stdout",
     "output_type": "stream",
     "text": [
      "Filen AmericanOffencesPenalty.csv hittades!\n"
     ]
    }
   ],
   "source": [
    "import os\n",
    "\n",
    "input_file = \"AmericanOffencesPenalty.csv\"\n",
    "\n",
    "# Kontrollera om filen existerar\n",
    "if not os.path.exists(input_file):\n",
    "    print(f\"Filen {input_file} finns inte!\")\n",
    "else:\n",
    "    print(f\"Filen {input_file} hittades!\")"
   ]
  },
  {
   "cell_type": "code",
   "execution_count": null,
   "metadata": {},
   "outputs": [],
   "source": []
  },
  {
   "cell_type": "code",
   "execution_count": null,
   "metadata": {},
   "outputs": [],
   "source": []
  }
 ],
 "metadata": {
  "kernelspec": {
   "display_name": "base",
   "language": "python",
   "name": "python3"
  },
  "language_info": {
   "codemirror_mode": {
    "name": "ipython",
    "version": 3
   },
   "file_extension": ".py",
   "mimetype": "text/x-python",
   "name": "python",
   "nbconvert_exporter": "python",
   "pygments_lexer": "ipython3",
   "version": "3.12.7"
  }
 },
 "nbformat": 4,
 "nbformat_minor": 2
}

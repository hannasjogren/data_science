{
 "cells": [
  {
   "cell_type": "code",
   "execution_count": 1,
   "metadata": {},
   "outputs": [
    {
     "name": "stdout",
     "output_type": "stream",
     "text": [
      "                                                title  \\\n",
      "0                                        Sömngångaren   \n",
      "1                         Pappa : berätta om ditt liv   \n",
      "2                         Mamma : berätta om ditt liv   \n",
      "3   Fuskbygget : så knäckte bostadsmarknaden Sveri...   \n",
      "4                                       På Julbordsön   \n",
      "5                    Väninnorna på Nordiska Kompaniet   \n",
      "6             Läs : boken för dig som vill börja läsa   \n",
      "7                         Guinness World Records 2025   \n",
      "8                   Pixi adventskalender Emma Göthner   \n",
      "9                        Saker som (nästan) ingen vet   \n",
      "10                         Sommarskuggan och julbuset   \n",
      "11                             Trollbergets hemlighet   \n",
      "12                               Bara rumpor på julen   \n",
      "13                     Tur och retur : min berättelse   \n",
      "14         Läs pysselbok : öva på att läsa och skriva   \n",
      "15                        A Court of Thorns and Roses   \n",
      "16                       Mormor : berätta om ditt liv   \n",
      "17                                    Död mans kvinna   \n",
      "18                       Sporttouchen : fotbollsboken   \n",
      "19                         Intermezzo (svensk utgåva)   \n",
      "20                                       Vegetarianen   \n",
      "21                                        Julstjärnan   \n",
      "22                                            Patriot   \n",
      "23           Pixi adventskalender – Mattias Andersson   \n",
      "24  Fotbollsstjärnor 2025 : 50 stjärnporträtt med ...   \n",
      "25                                    Jul på Hogwarts   \n",
      "26                               Kungen av Nostratien   \n",
      "27                                              Ingen   \n",
      "28                          A Court of Wings and Ruin   \n",
      "29            Pixi adventskalender -  Filippa Widlund   \n",
      "30                           A Court of Mist and Fury   \n",
      "31                  Enkla och roliga fakta om kroppen   \n",
      "32                     A Court of Frost and Starlight   \n",
      "33  Dr Damp : tips och råd för ett enklare liv med...   \n",
      "34             Jag älskar dig till månen och tillbaka   \n",
      "35                                     Så funkar det!   \n",
      "36          Jul med Musse & Helium. En magisk julsaga   \n",
      "37                       Farmor : berätta om ditt liv   \n",
      "38                               Pettson får julbesök   \n",
      "39                Pojken, mullvaden, räven och hästen   \n",
      "40  Stillhet & rörelse : hur du kan läka din kropp...   \n",
      "41                        Det spökar på äventyrsbadet   \n",
      "42                Min lilla pekbok : första 100 orden   \n",
      "43  Historien om Norrland. Dimmans land : från ist...   \n",
      "44  Vart är vi på väg? : svensk ekonomi nu och framåt   \n",
      "45                                      Rymdmysteriet   \n",
      "46                              Jag vill bara få leva   \n",
      "47                                       Abborrbibeln   \n",
      "48                                   En underbar resa   \n",
      "\n",
      "                         author  \\\n",
      "0                   Lars Kepler   \n",
      "1              Ingen författare   \n",
      "2              Ingen författare   \n",
      "3              Andreas Cervenka   \n",
      "4                          Tomu   \n",
      "5         Ruth Kvarnström-Jones   \n",
      "6                Katarina Kuick   \n",
      "7   Ltd. Guinness World Records   \n",
      "8              Ingen författare   \n",
      "9              Bengt Fredrikson   \n",
      "10                  Tina Mackic   \n",
      "11                 Joanna André   \n",
      "12                 Annika Leone   \n",
      "13                  Mats Sundin   \n",
      "14               Katarina Kuick   \n",
      "15                Sarah J. Maas   \n",
      "16             Ingen författare   \n",
      "17            Katarina Wennstam   \n",
      "18                Tim Rangström   \n",
      "19                 Sally Rooney   \n",
      "20                     Han Kang   \n",
      "21        Sara Bergmark Elfgren   \n",
      "22             Aleksej Navalnyj   \n",
      "23             Ingen författare   \n",
      "24                 Martin Ahlin   \n",
      "25                 J.K. Rowling   \n",
      "26              Tony Samuelsson   \n",
      "27                Pascal Engman   \n",
      "28                Sarah J. Maas   \n",
      "29             Ingen författare   \n",
      "30                Sarah J. Maas   \n",
      "31                 Julia Wiberg   \n",
      "32                Sarah J. Maas   \n",
      "33              Darius Barimani   \n",
      "34              Amelia Hepworth   \n",
      "35                 Conrad Mason   \n",
      "36               Camilla Brinck   \n",
      "37             Ingen författare   \n",
      "38               Sven Nordqvist   \n",
      "39              Charlie Mackesy   \n",
      "40              Jonas Parandian   \n",
      "41                 Joanna André   \n",
      "42             Ingen författare   \n",
      "43               Robin Olovsson   \n",
      "44                  Anders Borg   \n",
      "45               Martin Widmark   \n",
      "46                     Ida Kjos   \n",
      "47              Tobias Fränstam   \n",
      "48                   Bengt Berg   \n",
      "\n",
      "                                                price  \n",
      "0   <bound method Tag.find of <div class=\"price se...  \n",
      "1   <bound method Tag.find of <div class=\"price se...  \n",
      "2   <bound method Tag.find of <div class=\"price se...  \n",
      "3   <bound method Tag.find of <div class=\"price se...  \n",
      "4   <bound method Tag.find of <div class=\"price se...  \n",
      "5   <bound method Tag.find of <div class=\"price se...  \n",
      "6   <bound method Tag.find of <div class=\"price se...  \n",
      "7   <bound method Tag.find of <div class=\"price se...  \n",
      "8   <bound method Tag.find of <div class=\"price se...  \n",
      "9   <bound method Tag.find of <div class=\"price se...  \n",
      "10  <bound method Tag.find of <div class=\"price se...  \n",
      "11  <bound method Tag.find of <div class=\"price se...  \n",
      "12  <bound method Tag.find of <div class=\"price se...  \n",
      "13  <bound method Tag.find of <div class=\"price se...  \n",
      "14  <bound method Tag.find of <div class=\"price se...  \n",
      "15  <bound method Tag.find of <div class=\"price se...  \n",
      "16  <bound method Tag.find of <div class=\"price se...  \n",
      "17  <bound method Tag.find of <div class=\"price se...  \n",
      "18  <bound method Tag.find of <div class=\"price se...  \n",
      "19  <bound method Tag.find of <div class=\"price se...  \n",
      "20  <bound method Tag.find of <div class=\"price se...  \n",
      "21  <bound method Tag.find of <div class=\"price se...  \n",
      "22  <bound method Tag.find of <div class=\"price se...  \n",
      "23  <bound method Tag.find of <div class=\"price se...  \n",
      "24  <bound method Tag.find of <div class=\"price se...  \n",
      "25  <bound method Tag.find of <div class=\"price se...  \n",
      "26  <bound method Tag.find of <div class=\"price se...  \n",
      "27  <bound method Tag.find of <div class=\"price se...  \n",
      "28  <bound method Tag.find of <div class=\"price se...  \n",
      "29  <bound method Tag.find of <div class=\"price se...  \n",
      "30  <bound method Tag.find of <div class=\"price se...  \n",
      "31  <bound method Tag.find of <div class=\"price se...  \n",
      "32  <bound method Tag.find of <div class=\"price se...  \n",
      "33  <bound method Tag.find of <div class=\"price se...  \n",
      "34  <bound method Tag.find of <div class=\"price se...  \n",
      "35  <bound method Tag.find of <div class=\"price se...  \n",
      "36  <bound method Tag.find of <div class=\"price se...  \n",
      "37  <bound method Tag.find of <div class=\"price se...  \n",
      "38  <bound method Tag.find of <div class=\"price se...  \n",
      "39  <bound method Tag.find of <div class=\"price se...  \n",
      "40  <bound method Tag.find of <div class=\"price se...  \n",
      "41  <bound method Tag.find of <div class=\"price se...  \n",
      "42  <bound method Tag.find of <div class=\"price se...  \n",
      "43  <bound method Tag.find of <div class=\"price se...  \n",
      "44  <bound method Tag.find of <div class=\"price se...  \n",
      "45  <bound method Tag.find of <div class=\"price se...  \n",
      "46  <bound method Tag.find of <div class=\"price se...  \n",
      "47  <bound method Tag.find of <div class=\"price se...  \n",
      "48  <bound method Tag.find of <div class=\"price se...  \n"
     ]
    }
   ],
   "source": [
    "import requests\n",
    "from bs4 import BeautifulSoup\n",
    "import pandas as pd\n",
    "from time import sleep\n",
    "\n",
    "# Huvudsidan med kampanjer och topplistor\n",
    "base_url = 'https://www.adlibris.com/se/kampanj/manadens-topplista'\n",
    "\n",
    "# Hämta huvudkampanjsidan\n",
    "response = requests.get(base_url)\n",
    "\n",
    "# Kontrollera om svaret är OK\n",
    "if response.status_code == 200:\n",
    "    # Bearbeta sidan med BeautifulSoup och ange parser\n",
    "    soup = BeautifulSoup(response.content, 'html.parser')\n",
    "\n",
    "    # Hitta alla produkter (böcker)\n",
    "    products = soup.find_all('div', class_='product-panel__product')\n",
    "\n",
    "    # Lista för att lagra böckerna\n",
    "    books_data = []\n",
    "\n",
    "    # Loopa igenom varje bok och extrahera titel, författare och pris\n",
    "    for product in products:\n",
    "        # Boktitel\n",
    "        title = product.find('h3', itemprop='name')\n",
    "        title_text = title.get_text(strip=True) if title else 'Ingen titel'\n",
    "\n",
    "        # Författare\n",
    "        author = product.find('span', itemprop='author')\n",
    "        author_name = author.get_text(strip=True) if author else 'Ingen författare'\n",
    "\n",
    "        # Pris\n",
    "        price = product.find('div', itemprop='offers')\n",
    "        price_value = price.find\n",
    "        \n",
    "        # Lägg till informationen i listan\n",
    "        books_data.append({\n",
    "            'title': title_text,\n",
    "            'author': author_name,\n",
    "            'price': price_value\n",
    "        })\n",
    "\n",
    "    # Skapa en DataFrame från listan\n",
    "    df = pd.DataFrame(books_data)\n",
    "\n",
    "    # Skriv ut DataFrame\n",
    "    print(df)\n",
    "\n",
    "else:\n",
    "    print(f\"Kunde inte hämta sidan. Statuskod: {response.status_code}\")\n",
    "\n"
   ]
  },
  {
   "cell_type": "code",
   "execution_count": 2,
   "metadata": {},
   "outputs": [
    {
     "name": "stdout",
     "output_type": "stream",
     "text": [
      "<class 'pandas.core.frame.DataFrame'>\n",
      "RangeIndex: 49 entries, 0 to 48\n",
      "Data columns (total 3 columns):\n",
      " #   Column  Non-Null Count  Dtype \n",
      "---  ------  --------------  ----- \n",
      " 0   title   49 non-null     object\n",
      " 1   author  49 non-null     object\n",
      " 2   price   49 non-null     object\n",
      "dtypes: object(3)\n",
      "memory usage: 1.3+ KB\n"
     ]
    }
   ],
   "source": [
    "df.info()"
   ]
  },
  {
   "cell_type": "code",
   "execution_count": 3,
   "metadata": {},
   "outputs": [
    {
     "data": {
      "text/plain": [
       "49"
      ]
     },
     "execution_count": 3,
     "metadata": {},
     "output_type": "execute_result"
    }
   ],
   "source": [
    "import sqlite3\n",
    "# Skapa en anslutning till databasen\n",
    "con = sqlite3.connect('bok.db')\n",
    "\n",
    "# Kontrollera att DataFrame inte har några felaktiga datatyper\n",
    "df = df.map(str)  # Om du misstänker att det finns metoder eller obehöriga datatyper\n",
    "\n",
    "# Skriv DataFrame till SQLite-databasen, ersätt om tabellen redan finns\n",
    "df.to_sql('bokdata', con, if_exists='replace', index=False)"
   ]
  },
  {
   "cell_type": "code",
   "execution_count": 4,
   "metadata": {},
   "outputs": [],
   "source": [
    "# Konvertera 'author' till str\n",
    "df['author'] = df['author'].astype(str)"
   ]
  },
  {
   "cell_type": "code",
   "execution_count": 5,
   "metadata": {},
   "outputs": [
    {
     "name": "stdout",
     "output_type": "stream",
     "text": [
      "title     object\n",
      "author    object\n",
      "price     object\n",
      "dtype: object\n"
     ]
    }
   ],
   "source": [
    "# Bekräfta datatyper\n",
    "print(df.dtypes)"
   ]
  },
  {
   "cell_type": "code",
   "execution_count": 6,
   "metadata": {},
   "outputs": [
    {
     "name": "stdout",
     "output_type": "stream",
     "text": [
      "<class 'str'>\n"
     ]
    }
   ],
   "source": [
    "print(type(df['author'][0]))"
   ]
  },
  {
   "cell_type": "code",
   "execution_count": 7,
   "metadata": {},
   "outputs": [
    {
     "name": "stdout",
     "output_type": "stream",
     "text": [
      "<class 'pandas.core.frame.DataFrame'>\n",
      "RangeIndex: 49 entries, 0 to 48\n",
      "Data columns (total 3 columns):\n",
      " #   Column  Non-Null Count  Dtype \n",
      "---  ------  --------------  ----- \n",
      " 0   title   49 non-null     object\n",
      " 1   author  49 non-null     object\n",
      " 2   price   49 non-null     object\n",
      "dtypes: object(3)\n",
      "memory usage: 1.3+ KB\n"
     ]
    }
   ],
   "source": [
    "df.info()"
   ]
  },
  {
   "cell_type": "code",
   "execution_count": 8,
   "metadata": {},
   "outputs": [
    {
     "name": "stdout",
     "output_type": "stream",
     "text": [
      "True\n"
     ]
    }
   ],
   "source": [
    "# Kontrollera om alla värden är av typen str\n",
    "print(all(isinstance(x, str) for x in df['author']))"
   ]
  },
  {
   "cell_type": "code",
   "execution_count": 9,
   "metadata": {},
   "outputs": [],
   "source": [
    "# Konvertera till pandas nya string-datatyp\n",
    "df['author'] = df['author'].astype('string')"
   ]
  },
  {
   "cell_type": "code",
   "execution_count": 12,
   "metadata": {},
   "outputs": [
    {
     "name": "stdout",
     "output_type": "stream",
     "text": [
      "title             object\n",
      "author    string[python]\n",
      "price             object\n",
      "dtype: object\n"
     ]
    }
   ],
   "source": [
    "# Bekräfta datatyper\n",
    "print(df.dtypes)"
   ]
  },
  {
   "cell_type": "code",
   "execution_count": 11,
   "metadata": {},
   "outputs": [
    {
     "name": "stdout",
     "output_type": "stream",
     "text": [
      "                                               title            author  \\\n",
      "0                                       Sömngångaren       Lars Kepler   \n",
      "1                        Pappa : berätta om ditt liv  Ingen författare   \n",
      "2                        Mamma : berätta om ditt liv  Ingen författare   \n",
      "3  Fuskbygget : så knäckte bostadsmarknaden Sveri...  Andreas Cervenka   \n",
      "4                                      På Julbordsön              Tomu   \n",
      "\n",
      "                                               price  \n",
      "0  <bound method Tag.find of <div class=\"price se...  \n",
      "1  <bound method Tag.find of <div class=\"price se...  \n",
      "2  <bound method Tag.find of <div class=\"price se...  \n",
      "3  <bound method Tag.find of <div class=\"price se...  \n",
      "4  <bound method Tag.find of <div class=\"price se...  \n",
      "<class 'pandas.core.frame.DataFrame'>\n",
      "RangeIndex: 49 entries, 0 to 48\n",
      "Data columns (total 3 columns):\n",
      " #   Column  Non-Null Count  Dtype \n",
      "---  ------  --------------  ----- \n",
      " 0   title   49 non-null     object\n",
      " 1   author  49 non-null     string\n",
      " 2   price   49 non-null     object\n",
      "dtypes: object(2), string(1)\n",
      "memory usage: 1.3+ KB\n",
      "None\n",
      "               title            author  \\\n",
      "count             49                49   \n",
      "unique            49                37   \n",
      "top     Sömngångaren  Ingen författare   \n",
      "freq               1                 8   \n",
      "\n",
      "                                                    price  \n",
      "count                                                  49  \n",
      "unique                                                 25  \n",
      "top     <bound method Tag.find of <div class=\"price se...  \n",
      "freq                                                    6  \n"
     ]
    }
   ],
   "source": [
    "print(df.head())  # Visa de första 5 raderna\n",
    "print(df.info())  # Visa information om kolumner och datatyper\n",
    "print(df.describe())  # Visa en beskrivning"
   ]
  },
  {
   "cell_type": "code",
   "execution_count": 13,
   "metadata": {},
   "outputs": [
    {
     "name": "stdout",
     "output_type": "stream",
     "text": [
      "                                                title  \\\n",
      "0                                        Sömngångaren   \n",
      "1                         Pappa : berätta om ditt liv   \n",
      "2                         Mamma : berätta om ditt liv   \n",
      "3   Fuskbygget : så knäckte bostadsmarknaden Sveri...   \n",
      "4                                       På Julbordsön   \n",
      "5                    Väninnorna på Nordiska Kompaniet   \n",
      "6             Läs : boken för dig som vill börja läsa   \n",
      "7                         Guinness World Records 2025   \n",
      "8                   Pixi adventskalender Emma Göthner   \n",
      "9                        Saker som (nästan) ingen vet   \n",
      "10                         Sommarskuggan och julbuset   \n",
      "11                             Trollbergets hemlighet   \n",
      "12                               Bara rumpor på julen   \n",
      "13                     Tur och retur : min berättelse   \n",
      "14         Läs pysselbok : öva på att läsa och skriva   \n",
      "15                        A Court of Thorns and Roses   \n",
      "16                       Mormor : berätta om ditt liv   \n",
      "17                                    Död mans kvinna   \n",
      "18                       Sporttouchen : fotbollsboken   \n",
      "19                         Intermezzo (svensk utgåva)   \n",
      "20                                       Vegetarianen   \n",
      "21                                        Julstjärnan   \n",
      "22                                            Patriot   \n",
      "23           Pixi adventskalender – Mattias Andersson   \n",
      "24  Fotbollsstjärnor 2025 : 50 stjärnporträtt med ...   \n",
      "25                                    Jul på Hogwarts   \n",
      "26                               Kungen av Nostratien   \n",
      "27                                              Ingen   \n",
      "28                          A Court of Wings and Ruin   \n",
      "29            Pixi adventskalender -  Filippa Widlund   \n",
      "30                           A Court of Mist and Fury   \n",
      "31                  Enkla och roliga fakta om kroppen   \n",
      "32                     A Court of Frost and Starlight   \n",
      "33  Dr Damp : tips och råd för ett enklare liv med...   \n",
      "34             Jag älskar dig till månen och tillbaka   \n",
      "35                                     Så funkar det!   \n",
      "36          Jul med Musse & Helium. En magisk julsaga   \n",
      "37                       Farmor : berätta om ditt liv   \n",
      "38                               Pettson får julbesök   \n",
      "39                Pojken, mullvaden, räven och hästen   \n",
      "40  Stillhet & rörelse : hur du kan läka din kropp...   \n",
      "41                        Det spökar på äventyrsbadet   \n",
      "42                Min lilla pekbok : första 100 orden   \n",
      "43  Historien om Norrland. Dimmans land : från ist...   \n",
      "44  Vart är vi på väg? : svensk ekonomi nu och framåt   \n",
      "45                                      Rymdmysteriet   \n",
      "46                              Jag vill bara få leva   \n",
      "47                                       Abborrbibeln   \n",
      "48                                   En underbar resa   \n",
      "\n",
      "                         author  \n",
      "0                   Lars Kepler  \n",
      "1              Ingen författare  \n",
      "2              Ingen författare  \n",
      "3              Andreas Cervenka  \n",
      "4                          Tomu  \n",
      "5         Ruth Kvarnström-Jones  \n",
      "6                Katarina Kuick  \n",
      "7   Ltd. Guinness World Records  \n",
      "8              Ingen författare  \n",
      "9              Bengt Fredrikson  \n",
      "10                  Tina Mackic  \n",
      "11                 Joanna André  \n",
      "12                 Annika Leone  \n",
      "13                  Mats Sundin  \n",
      "14               Katarina Kuick  \n",
      "15                Sarah J. Maas  \n",
      "16             Ingen författare  \n",
      "17            Katarina Wennstam  \n",
      "18                Tim Rangström  \n",
      "19                 Sally Rooney  \n",
      "20                     Han Kang  \n",
      "21        Sara Bergmark Elfgren  \n",
      "22             Aleksej Navalnyj  \n",
      "23             Ingen författare  \n",
      "24                 Martin Ahlin  \n",
      "25                 J.K. Rowling  \n",
      "26              Tony Samuelsson  \n",
      "27                Pascal Engman  \n",
      "28                Sarah J. Maas  \n",
      "29             Ingen författare  \n",
      "30                Sarah J. Maas  \n",
      "31                 Julia Wiberg  \n",
      "32                Sarah J. Maas  \n",
      "33              Darius Barimani  \n",
      "34              Amelia Hepworth  \n",
      "35                 Conrad Mason  \n",
      "36               Camilla Brinck  \n",
      "37             Ingen författare  \n",
      "38               Sven Nordqvist  \n",
      "39              Charlie Mackesy  \n",
      "40              Jonas Parandian  \n",
      "41                 Joanna André  \n",
      "42             Ingen författare  \n",
      "43               Robin Olovsson  \n",
      "44                  Anders Borg  \n",
      "45               Martin Widmark  \n",
      "46                     Ida Kjos  \n",
      "47              Tobias Fränstam  \n",
      "48                   Bengt Berg  \n"
     ]
    }
   ],
   "source": [
    "df.drop(columns=['price'], inplace=True)\n",
    "print(df)"
   ]
  },
  {
   "cell_type": "code",
   "execution_count": null,
   "metadata": {},
   "outputs": [],
   "source": []
  }
 ],
 "metadata": {
  "kernelspec": {
   "display_name": "base",
   "language": "python",
   "name": "python3"
  },
  "language_info": {
   "codemirror_mode": {
    "name": "ipython",
    "version": 3
   },
   "file_extension": ".py",
   "mimetype": "text/x-python",
   "name": "python",
   "nbconvert_exporter": "python",
   "pygments_lexer": "ipython3",
   "version": "3.12.7"
  }
 },
 "nbformat": 4,
 "nbformat_minor": 2
}
